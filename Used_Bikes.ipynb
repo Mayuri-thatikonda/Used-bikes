{
  "nbformat": 4,
  "nbformat_minor": 0,
  "metadata": {
    "colab": {
      "name": "Used-Bikes.ipynb",
      "provenance": [],
      "authorship_tag": "ABX9TyPaOd/zKFvGH4Fipl6YIhM7",
      "include_colab_link": true
    },
    "kernelspec": {
      "name": "python3",
      "display_name": "Python 3"
    },
    "language_info": {
      "name": "python"
    }
  },
  "cells": [
    {
      "cell_type": "markdown",
      "metadata": {
        "id": "view-in-github",
        "colab_type": "text"
      },
      "source": [
        "<a href=\"https://colab.research.google.com/github/Mayuri-thatikonda/Used-bikes/blob/main/Used_Bikes.ipynb\" target=\"_parent\"><img src=\"https://colab.research.google.com/assets/colab-badge.svg\" alt=\"Open In Colab\"/></a>"
      ]
    },
    {
      "cell_type": "code",
      "metadata": {
        "id": "O3dMIgTthgfx"
      },
      "source": [
        "import numpy as np\n",
        "import pandas as pd\n",
        "import matplotlib.pyplot as plt\n"
      ],
      "execution_count": 1,
      "outputs": []
    },
    {
      "cell_type": "code",
      "metadata": {
        "id": "nKs8Wmn7hvGx"
      },
      "source": [
        "dataset=pd.read_csv('Used_Bikes.csv')"
      ],
      "execution_count": 2,
      "outputs": []
    },
    {
      "cell_type": "code",
      "metadata": {
        "colab": {
          "base_uri": "https://localhost:8080/",
          "height": 206
        },
        "id": "0NAjp1kmh2pc",
        "outputId": "376e3c9e-993f-4ee1-fc60-a5a6e2df0764"
      },
      "source": [
        "dataset.head()"
      ],
      "execution_count": 3,
      "outputs": [
        {
          "output_type": "execute_result",
          "data": {
            "text/html": [
              "<div>\n",
              "<style scoped>\n",
              "    .dataframe tbody tr th:only-of-type {\n",
              "        vertical-align: middle;\n",
              "    }\n",
              "\n",
              "    .dataframe tbody tr th {\n",
              "        vertical-align: top;\n",
              "    }\n",
              "\n",
              "    .dataframe thead th {\n",
              "        text-align: right;\n",
              "    }\n",
              "</style>\n",
              "<table border=\"1\" class=\"dataframe\">\n",
              "  <thead>\n",
              "    <tr style=\"text-align: right;\">\n",
              "      <th></th>\n",
              "      <th>bike_name</th>\n",
              "      <th>city</th>\n",
              "      <th>kms_driven</th>\n",
              "      <th>owner</th>\n",
              "      <th>age</th>\n",
              "      <th>power</th>\n",
              "      <th>price</th>\n",
              "    </tr>\n",
              "  </thead>\n",
              "  <tbody>\n",
              "    <tr>\n",
              "      <th>0</th>\n",
              "      <td>TVS Star City Plus Dual Tone 110cc</td>\n",
              "      <td>Ahmedabad</td>\n",
              "      <td>17654</td>\n",
              "      <td>First Owner</td>\n",
              "      <td>3</td>\n",
              "      <td>110</td>\n",
              "      <td>35000</td>\n",
              "    </tr>\n",
              "    <tr>\n",
              "      <th>1</th>\n",
              "      <td>Royal Enfield Classic 350cc</td>\n",
              "      <td>Delhi</td>\n",
              "      <td>11000</td>\n",
              "      <td>First Owner</td>\n",
              "      <td>4</td>\n",
              "      <td>350</td>\n",
              "      <td>119900</td>\n",
              "    </tr>\n",
              "    <tr>\n",
              "      <th>2</th>\n",
              "      <td>Triumph Daytona 675R</td>\n",
              "      <td>Delhi</td>\n",
              "      <td>110</td>\n",
              "      <td>First Owner</td>\n",
              "      <td>8</td>\n",
              "      <td>675</td>\n",
              "      <td>600000</td>\n",
              "    </tr>\n",
              "    <tr>\n",
              "      <th>3</th>\n",
              "      <td>TVS Apache RTR 180cc</td>\n",
              "      <td>Bangalore</td>\n",
              "      <td>16329</td>\n",
              "      <td>First Owner</td>\n",
              "      <td>4</td>\n",
              "      <td>180</td>\n",
              "      <td>65000</td>\n",
              "    </tr>\n",
              "    <tr>\n",
              "      <th>4</th>\n",
              "      <td>Yamaha FZ S V 2.0 150cc-Ltd. Edition</td>\n",
              "      <td>Bangalore</td>\n",
              "      <td>10000</td>\n",
              "      <td>First Owner</td>\n",
              "      <td>3</td>\n",
              "      <td>150</td>\n",
              "      <td>80000</td>\n",
              "    </tr>\n",
              "  </tbody>\n",
              "</table>\n",
              "</div>"
            ],
            "text/plain": [
              "                              bike_name       city  ...  power   price\n",
              "0    TVS Star City Plus Dual Tone 110cc  Ahmedabad  ...    110   35000\n",
              "1           Royal Enfield Classic 350cc      Delhi  ...    350  119900\n",
              "2                  Triumph Daytona 675R      Delhi  ...    675  600000\n",
              "3                  TVS Apache RTR 180cc  Bangalore  ...    180   65000\n",
              "4  Yamaha FZ S V 2.0 150cc-Ltd. Edition  Bangalore  ...    150   80000\n",
              "\n",
              "[5 rows x 7 columns]"
            ]
          },
          "metadata": {
            "tags": []
          },
          "execution_count": 3
        }
      ]
    },
    {
      "cell_type": "code",
      "metadata": {
        "colab": {
          "base_uri": "https://localhost:8080/"
        },
        "id": "VMcS4u1MiEOL",
        "outputId": "09c7312f-4bf5-4334-f12e-c25abf9013ea"
      },
      "source": [
        "dataset['bike_name'].nunique()"
      ],
      "execution_count": 4,
      "outputs": [
        {
          "output_type": "execute_result",
          "data": {
            "text/plain": [
              "471"
            ]
          },
          "metadata": {
            "tags": []
          },
          "execution_count": 4
        }
      ]
    },
    {
      "cell_type": "code",
      "metadata": {
        "colab": {
          "base_uri": "https://localhost:8080/"
        },
        "id": "nnyaBZlniZmT",
        "outputId": "6d9aca1c-85f8-4e0c-8ae3-be2a4798578a"
      },
      "source": [
        "dataset['city'].nunique()"
      ],
      "execution_count": 5,
      "outputs": [
        {
          "output_type": "execute_result",
          "data": {
            "text/plain": [
              "443"
            ]
          },
          "metadata": {
            "tags": []
          },
          "execution_count": 5
        }
      ]
    },
    {
      "cell_type": "code",
      "metadata": {
        "colab": {
          "base_uri": "https://localhost:8080/"
        },
        "id": "qYvh6v7rimer",
        "outputId": "1538feff-8d83-4391-f273-bb8ac53286d4"
      },
      "source": [
        "dataset['owner'].nunique()"
      ],
      "execution_count": 6,
      "outputs": [
        {
          "output_type": "execute_result",
          "data": {
            "text/plain": [
              "4"
            ]
          },
          "metadata": {
            "tags": []
          },
          "execution_count": 6
        }
      ]
    },
    {
      "cell_type": "code",
      "metadata": {
        "colab": {
          "base_uri": "https://localhost:8080/"
        },
        "id": "-qvldYxZiyz-",
        "outputId": "dcae40ef-345e-482e-83b6-16f7d3bf6f96"
      },
      "source": [
        "from sklearn.preprocessing import LabelEncoder\n",
        "le = LabelEncoder()\n",
        "dataset = dataset[['city', 'owner', 'bike_name']].apply(le.fit_transform)\n",
        "print(dataset)"
      ],
      "execution_count": 7,
      "outputs": [
        {
          "output_type": "stream",
          "text": [
            "       city  owner  bike_name\n",
            "0         6      0        401\n",
            "1       118      0        295\n",
            "2       118      0        411\n",
            "3        44      0        375\n",
            "4        44      0        426\n",
            "...     ...    ...        ...\n",
            "32643   118      0        151\n",
            "32644   224      0        375\n",
            "32645   118      0         15\n",
            "32646   191      0        176\n",
            "32647   330      0         56\n",
            "\n",
            "[32648 rows x 3 columns]\n"
          ],
          "name": "stdout"
        }
      ]
    },
    {
      "cell_type": "code",
      "metadata": {
        "colab": {
          "base_uri": "https://localhost:8080/"
        },
        "id": "SzD39e7gjgaI",
        "outputId": "21032468-7d9f-482d-a8ed-1ebb0e9231f9"
      },
      "source": [
        "dataset['owner'].unique()"
      ],
      "execution_count": 8,
      "outputs": [
        {
          "output_type": "execute_result",
          "data": {
            "text/plain": [
              "array([0, 2, 3, 1])"
            ]
          },
          "metadata": {
            "tags": []
          },
          "execution_count": 8
        }
      ]
    },
    {
      "cell_type": "code",
      "metadata": {
        "colab": {
          "base_uri": "https://localhost:8080/"
        },
        "id": "eCNhIwQvkF8m",
        "outputId": "f138f6e7-1ebe-4f22-b7f5-0dc92a12c19f"
      },
      "source": [
        "dataset['city'].unique()"
      ],
      "execution_count": 9,
      "outputs": [
        {
          "output_type": "execute_result",
          "data": {
            "text/plain": [
              "array([  6, 118,  44, 282, 218, 140, 273, 185, 217, 167, 330, 308, 300,\n",
              "       240,  14, 359, 289, 257, 191, 224, 163, 431, 182,  36,  54,   5,\n",
              "       128, 423, 194, 395, 100, 301, 149, 436, 404, 243, 137,  50, 156,\n",
              "        74,  21,  73, 172, 248,  30, 321, 346, 262, 258, 264, 379,  32,\n",
              "       220,  69, 271, 352,   7, 439,  96, 345, 318, 399, 189, 246, 353,\n",
              "       341, 427,   0,  45, 292,  46, 314, 101, 230, 274, 355, 109, 193,\n",
              "       287,   3,  81, 260, 198, 342, 420, 160, 242, 366, 386, 111,  72,\n",
              "       245, 307, 259, 417, 311, 409, 316, 297, 206, 390, 333, 180, 161,\n",
              "       155, 135, 315,  98, 183, 209, 184, 317,  63, 430,  17, 168, 154,\n",
              "       340, 406,  58,  40, 202,  31,  82, 401, 337, 263,  55,  85,  12,\n",
              "        43, 351, 281,  49, 170, 403, 188,  90,  94, 174,  64, 284, 322,\n",
              "       381, 382,  51, 320, 237, 378, 205, 354, 357, 388, 169,  11, 231,\n",
              "       239, 424, 367, 179, 166, 112,  20, 134, 272, 254, 110, 192, 173,\n",
              "       133, 391, 268, 106,  65, 376, 233, 117,  22, 360,  27, 332, 410,\n",
              "        38, 413, 211, 370, 326, 383, 159,   8, 276, 338, 302, 175, 200,\n",
              "       344,  61, 432, 283,  97, 201, 421, 294, 419,  93, 186, 374,  29,\n",
              "        77, 356, 119, 219, 426, 270, 227, 123, 113, 148, 197,  19, 265,\n",
              "       120, 150, 107, 105, 204, 190, 349, 339, 165,  34,   2,  13,  67,\n",
              "       280, 244, 143, 402, 414, 350, 255, 249, 152, 438, 418, 327, 290,\n",
              "       177, 222, 277,  47, 434, 405, 393, 407,  78, 158, 153, 241,  39,\n",
              "        56,  86, 285,   4,  91, 336, 389, 104, 228,  87,  89,  26, 267,\n",
              "        35, 295, 331,  16, 396, 234, 251, 275, 362, 157, 372,  33,  99,\n",
              "       221, 411, 368, 253, 125,  53, 145, 103, 223, 247, 195, 319,  52,\n",
              "       358, 187, 286, 304, 196,  18, 416, 213, 131, 141, 298, 226, 365,\n",
              "       433, 261, 147, 178, 269, 235, 387, 385,  62,  23, 375, 325, 334,\n",
              "       364, 212, 313, 299, 312, 139, 144, 328, 136, 347,  92, 108,  37,\n",
              "       207, 293, 435, 127, 114, 303, 363, 397, 440, 428,  15, 384,  79,\n",
              "       250,  70,  59, 138,  28, 306, 415, 122, 425, 278, 129, 373, 208,\n",
              "        80, 441,  84, 252, 392, 348, 115, 343,  57, 164,  41, 214, 291,\n",
              "        25, 266, 296, 124, 102, 199, 442,   1,  48, 288, 215, 323, 394,\n",
              "       305, 329, 126, 400, 256, 437, 229, 116, 408, 146, 151,  76, 429,\n",
              "       324, 238, 398, 236, 210, 162,  88, 171, 132, 279, 412, 361, 225,\n",
              "        66, 142, 216, 369,  95, 130, 121,   9,  10,  71, 371, 309, 232,\n",
              "       422, 203, 176,  83,  75, 335,  68,  42,  24,  60, 380, 181, 310,\n",
              "       377])"
            ]
          },
          "metadata": {
            "tags": []
          },
          "execution_count": 9
        }
      ]
    },
    {
      "cell_type": "code",
      "metadata": {
        "id": "6YX_7QBokLks"
      },
      "source": [
        "X = dataset.iloc[:, :-1].values\n",
        "y = dataset.iloc[:, -1].values"
      ],
      "execution_count": 10,
      "outputs": []
    },
    {
      "cell_type": "code",
      "metadata": {
        "id": "OrjmIoq0kqub"
      },
      "source": [
        "from sklearn.model_selection import train_test_split\n",
        "X_train, X_test, y_train, y_test = train_test_split(X, y, test_size = 0.2, random_state = 1)\n"
      ],
      "execution_count": 11,
      "outputs": []
    },
    {
      "cell_type": "code",
      "metadata": {
        "colab": {
          "base_uri": "https://localhost:8080/"
        },
        "id": "SEfil5jAlvz0",
        "outputId": "91f062b6-859d-4ffa-8689-6441f1d38e74"
      },
      "source": [
        "from sklearn.tree import DecisionTreeRegressor\n",
        "regressor = DecisionTreeRegressor(random_state = 0)\n",
        "regressor.fit(X_train, y_train)\n",
        "y_pred = regressor.predict(X_test)\n",
        "np.set_printoptions(precision=2)\n",
        "print(np.concatenate((y_pred.reshape(len(y_pred),1), y_test.reshape(len(y_test),1)),1))\n",
        "from sklearn.metrics import r2_score\n",
        "r2_score(y_test, y_pred)"
      ],
      "execution_count": 18,
      "outputs": [
        {
          "output_type": "stream",
          "text": [
            "[[258.94 422.  ]\n",
            " [ 62.78   9.  ]\n",
            " [258.94 122.  ]\n",
            " ...\n",
            " [200.49  36.  ]\n",
            " [287.18 295.  ]\n",
            " [203.42 356.  ]]\n"
          ],
          "name": "stdout"
        },
        {
          "output_type": "execute_result",
          "data": {
            "text/plain": [
              "0.3848311886574689"
            ]
          },
          "metadata": {
            "tags": []
          },
          "execution_count": 18
        }
      ]
    }
  ]
}